{
  "nbformat": 4,
  "nbformat_minor": 0,
  "metadata": {
    "colab": {
      "provenance": [],
      "authorship_tag": "ABX9TyOOMF5MKMQBr8HUAhGoyRmJ",
      "include_colab_link": true
    },
    "kernelspec": {
      "name": "python3",
      "display_name": "Python 3"
    },
    "language_info": {
      "name": "python"
    }
  },
  "cells": [
    {
      "cell_type": "markdown",
      "metadata": {
        "id": "view-in-github",
        "colab_type": "text"
      },
      "source": [
        "<a href=\"https://colab.research.google.com/github/amgothhrithik/Search_Engine/blob/main/Retrival_from_dataset.ipynb\" target=\"_parent\"><img src=\"https://colab.research.google.com/assets/colab-badge.svg\" alt=\"Open In Colab\"/></a>"
      ]
    },
    {
      "cell_type": "code",
      "execution_count": null,
      "metadata": {
        "colab": {
          "base_uri": "https://localhost:8080/"
        },
        "id": "lYlTE7ITmnx7",
        "outputId": "3f63f14d-9713-496e-f511-13aeed91011b"
      },
      "outputs": [
        {
          "output_type": "stream",
          "name": "stdout",
          "text": [
            "Mounted at /content/drive\n"
          ]
        }
      ],
      "source": [
        "from google.colab import drive\n",
        "drive.mount('/content/drive')"
      ]
    },
    {
      "cell_type": "code",
      "source": [
        "import numpy as np\n",
        "embeddings = np.load(\"/content/drive/MyDrive/Data/search_engine/embeddings.npy\")"
      ],
      "metadata": {
        "id": "3AESWaVTm2Yu"
      },
      "execution_count": null,
      "outputs": []
    },
    {
      "cell_type": "code",
      "source": [
        "!pip install datasets"
      ],
      "metadata": {
        "id": "rWe1GmFTnnpp"
      },
      "execution_count": null,
      "outputs": []
    },
    {
      "cell_type": "code",
      "source": [
        "from datasets import load_dataset\n",
        "\n",
        "dataset =  load_dataset(\n",
        "    \"ashraq/fashion-product-images-small\",\n",
        "    split=\"train\" )"
      ],
      "metadata": {
        "colab": {
          "base_uri": "https://localhost:8080/",
          "height": 254,
          "referenced_widgets": [
            "e602322d38d44ef1bf761311323f5983",
            "ce014432e4cb4c3e9044b46e8b2a62aa",
            "ef4f4939c53349aa9f8ae843a03848ae",
            "bb66baecc2bb4cf9a8fba0cdc6b6bb86",
            "df91153830bf4f08848c28a35f4ff7b6",
            "6c58a69c684b45b9b5d0000fd9e970b4",
            "1ca05beef6bf418a988a6b925240ad1d",
            "0c5aaaf0be364e18a1bff595ff9c80ca",
            "fe0f08468dfc481b946b2f076858109f",
            "fefbbcfaa98b4902b6e4eb2bb7bc748f",
            "5e26cdcb21e24c9b898f23917f5b174b",
            "cf1dced0cc044aa0862fc58a76bd8fad",
            "d200d5a2f270437ba2aa8c2c100fc52d",
            "52f622ae3cbd4808b8ba36a455582009",
            "d289319f1f2b4cec9e13c40ca31c3d9d",
            "015a62d23feb4548888ed19d6d578766",
            "14fcf3853dc041c99b17f59c01594e79",
            "d917731356c347beb8cf1e3a2cb983cb",
            "524e57c7cb3c4e99867e37668d6ea8e5",
            "900d30928ee14a43ab039d5f622d8545",
            "f061c582e4244e1085e6f9c74e3cb3ce",
            "f8625c00ab47490e968728fba6345128",
            "42c28c15cb46467aa025fc9f81f69e29",
            "893fde998d0649f49abf722770dd56a8",
            "a0606e73ecab44c08c6e5af86ad1747d",
            "634d9af532d044eab28c23f37dfbb7da",
            "3e05bd1769864061a285371aac4de99c",
            "95994bcd761f45469997bcf0975191a6",
            "c3461cda674849bbbb89edacfb79c678",
            "c9aba7a7cd594923a03814e2957ece88",
            "e25f19abffea4a9f9294f9b001c4403f",
            "258294f20f874254a14dad46ba9ac050",
            "a2ff09529a204adcaf077ac8d3ec9b85",
            "78bc0cdf2ae14e30b7e84a1d02b5e927",
            "000d497bcb8c47dd9a16eee9b81a1d0d",
            "7b60e908ae224cd8ad4cb0adda1d36c2",
            "1a5f548ff63b49c79e182d3c51b0ea71",
            "0e8ae7808f384b919f90811372b035d3",
            "62714ba8c162485ca14965176aedd45c",
            "1ddd2d4cf10f4120884b893fa187235f",
            "a746daea350b4dc69771c130599827f3",
            "1732df78c1244d16afecf31a8621f99d",
            "869b9b92cca540f7803b140ffde1e367",
            "2a6fccb9922e455bb19061a713289440"
          ]
        },
        "collapsed": true,
        "id": "NbeH5q60nm7z",
        "outputId": "7d152fb9-9271-44a9-f748-62b2c244bc76"
      },
      "execution_count": null,
      "outputs": [
        {
          "output_type": "stream",
          "name": "stderr",
          "text": [
            "/usr/local/lib/python3.11/dist-packages/huggingface_hub/utils/_auth.py:94: UserWarning: \n",
            "The secret `HF_TOKEN` does not exist in your Colab secrets.\n",
            "To authenticate with the Hugging Face Hub, create a token in your settings tab (https://huggingface.co/settings/tokens), set it as secret in your Google Colab and restart your session.\n",
            "You will be able to reuse this secret in all of your notebooks.\n",
            "Please note that authentication is recommended but still optional to access public models or datasets.\n",
            "  warnings.warn(\n"
          ]
        },
        {
          "output_type": "display_data",
          "data": {
            "text/plain": [
              "README.md:   0%|          | 0.00/867 [00:00<?, ?B/s]"
            ],
            "application/vnd.jupyter.widget-view+json": {
              "version_major": 2,
              "version_minor": 0,
              "model_id": "e602322d38d44ef1bf761311323f5983"
            }
          },
          "metadata": {}
        },
        {
          "output_type": "display_data",
          "data": {
            "text/plain": [
              "(…)-00000-of-00002-6cff4c59f91661c3.parquet:   0%|          | 0.00/136M [00:00<?, ?B/s]"
            ],
            "application/vnd.jupyter.widget-view+json": {
              "version_major": 2,
              "version_minor": 0,
              "model_id": "cf1dced0cc044aa0862fc58a76bd8fad"
            }
          },
          "metadata": {}
        },
        {
          "output_type": "display_data",
          "data": {
            "text/plain": [
              "(…)-00001-of-00002-bb459e5ac5f01e71.parquet:   0%|          | 0.00/135M [00:00<?, ?B/s]"
            ],
            "application/vnd.jupyter.widget-view+json": {
              "version_major": 2,
              "version_minor": 0,
              "model_id": "42c28c15cb46467aa025fc9f81f69e29"
            }
          },
          "metadata": {}
        },
        {
          "output_type": "display_data",
          "data": {
            "text/plain": [
              "Generating train split:   0%|          | 0/44072 [00:00<?, ? examples/s]"
            ],
            "application/vnd.jupyter.widget-view+json": {
              "version_major": 2,
              "version_minor": 0,
              "model_id": "78bc0cdf2ae14e30b7e84a1d02b5e927"
            }
          },
          "metadata": {}
        }
      ]
    },
    {
      "cell_type": "code",
      "source": [
        "!pip install faiss-cpu"
      ],
      "metadata": {
        "id": "ZCUIWCtNm46e"
      },
      "execution_count": null,
      "outputs": []
    },
    {
      "cell_type": "code",
      "source": [
        "import faiss\n",
        "import numpy as np\n",
        "\n",
        "# Convert PyTorch tensor to NumPy (FAISS works with NumPy)\n",
        "embeddings_np = embeddings.astype(\"float32\")\n",
        "faiss.normalize_L2(embeddings_np)\n",
        "index = faiss.IndexFlatIP(512)  # Inner Product (Cosine when normalized)\n",
        "index.add(embeddings_np)"
      ],
      "metadata": {
        "id": "Kip6whgHm766"
      },
      "execution_count": null,
      "outputs": []
    },
    {
      "cell_type": "code",
      "source": [
        "from sentence_transformers import SentenceTransformer, util\n",
        "from PIL import Image\n",
        "import torch\n",
        "device = \"cuda\" if torch.cuda.is_available() else \"cpu\"\n",
        "#Load CLIP model\n",
        "model = SentenceTransformer('clip-ViT-B-32').to(device)"
      ],
      "metadata": {
        "colab": {
          "base_uri": "https://localhost:8080/",
          "height": 375,
          "referenced_widgets": [
            "308ffea3c3fb43bf948a3b093c9647f0",
            "18f6d6cc167946528a428cd0ccb080bb",
            "6581ae46a8384f0496a8eaa7b9c20390",
            "a0a967dd6e164ed99211df3543076e7b",
            "8bb0e074c46f406c9d42abec908bcb5b",
            "618e0217de534f2f93db6902c2b764c1",
            "e9dd07ec91c3437681791391c11f5401",
            "b0638ee381ee4d649ff7239e785af1e2",
            "fcee7f2acb03424bb2161e146ba674f6",
            "265271dd45724b22b40e3606bae8f12b",
            "737235c1d0c04126a357236baa984bbb",
            "0177c5155f834f1a916487e51516c3fe",
            "fed56a2b30524231bd8922ba50164da4",
            "919f699d09e74b238d449c299e0d67d8",
            "7685ae5be3e94138af8ad1742225186e",
            "48c00bfb01f7480eae202f8b02316185",
            "b8edf247b37640a1b0a4632fd904a260",
            "1e07cbc6144047b39bde6f13de284a34",
            "0506a4a469494db680791a2af57a20d7",
            "151201fab2264944a127359872f980e5",
            "ec4e77722b86467986ac6ed346dafdaa",
            "9d99b1c5b2d4428f99b79ba4ebab3053",
            "b8eb0146c5cf4b58973bfbc9fb24dd95",
            "dc77c81df57a48149fc87c2133830fc5",
            "beb509052049498a8b5b5d8e73a00108",
            "cdf92055401d45a5b65e739d0d7af760",
            "8415467a88fe4120b20141c6a7c79dae",
            "26236f374ca84f4a9526457e70561c41",
            "8f9bed5e77d344da8b38e9320803f37f",
            "0d9206bb05a5400c9c9a74e7c989576d",
            "6929b75a18ff4b7998f1479f110b5227",
            "84af8612b6d9450a8ef5e2e8c06fac20",
            "0cfdab5f07a54459991a4b2634a2f8c2",
            "ba06bddbe2a04d1b9c0d3f5b6e67267a",
            "e5dc02a7928a49ebb8a768a487edb75e",
            "7638565094fd4c01b7d0f279f3b9783d",
            "3e40b1e2d11542568b6c9de507f27e7e",
            "3b1d069f38f84e1aa63a1a66e182c486",
            "ded8ee27c6bc47519da919b60648e36b",
            "3ef16c6955b547b1ba8ee03ca7ac83e3",
            "d4429306cf8048d7ba9dc6432d2f6b55",
            "098af5f0382242fda05efa5beeead98d",
            "18bf93118e174e279a394e663faca1a6",
            "3e9f5a52aeec4b169ca148908b09000b",
            "a44aa5b5db3b4a95b41bafca204c268d",
            "e005bbe2b3874b448d34e9c37a9af840",
            "2b5d93dfd335445aa4331848f9bace27",
            "3bef611372004a1b92bbf4202eae8232",
            "3fc2b4ce83724b9a8b9abfa9f3585437",
            "ab2bd905b4dd47f18c342d0fb39a462c",
            "208128e694bb4c69832554ebcb9d75cf",
            "7e81da25df684cf4bbf7c0a847390180",
            "add34747196b4bcbb47b182449fb6355",
            "a45a6e8065564879a62655d502e377a0",
            "e695e9ad81f5436d9133269a6dc7c4e9",
            "bc62d507d66840b0a7f4f6c3723910c3",
            "78a1e8fee8a9442f84458117b2c8dc41",
            "03ce63c5db4c432ea214c3cf9d4581c2",
            "099d241354df43e3af1ee75eb0702f0b",
            "e8c41b24d36b4abe8cbcc32ccf7e6cfa",
            "2339406c1bc741e3a343fec072d230f9",
            "5cfe7029d43041f9893c9bc41d87c6fc",
            "c2d47c9dfb1f4741bb7515b60fd82a90",
            "b62f1cb013c945a7808333131c4ec548",
            "8a73f92acc53473e92c32704f1a8c31f",
            "39248ecf7b7744fa8abe5d33a517cba6",
            "76fe2b38a877443eaa3a975e09c347ae",
            "06bf72da239b4c1e969940c2c612fe5c",
            "7055966e28744d888dee6fb6c23e2165",
            "702a656b73a54fed8ba559d3dd6ad1b1",
            "10e1b03d97554629aae3554bedb94c6a",
            "3186717ea4c94e62be462d4c8038424c",
            "2e393a453483455cbf5f0e9d819e6060",
            "f0299aab73b74585bb775a10582ff4df",
            "c731f8b30f914f7bbd41b7bb26d94ff9",
            "470c339fa7bb4138afe14ee93d994960",
            "39c583a1829843ef8bfc5c9f6fb9ffff",
            "6a08016ca9fe4944a157c86f2ac298a0",
            "bdcde6ae948848e29227eb311113b72a",
            "1172d9774c8e423e99c0a64be761b09c",
            "b770061159954e7fb9171789b8f2ac07",
            "70938869529c43e2b6877a471368cc74",
            "5d5fd5366116457598f6dc4068e17aec",
            "4b019bbb49c34baabeac9880247b280a",
            "6eb9cf6ac5c14e3c97a439a1dd4a4390",
            "a90a9c27664143f3908a49401a6c5fe6",
            "959e4b73eead4d5181a7d9462cff678d",
            "9b960e104b6d4fd18eb3b4f8ca29aef7",
            "5a00d25f416b4e0f86137577c801074a",
            "7988dcb477c14d7db390fd7cd0adeae1",
            "2ff9c2f8bb0c4733b1c911cb8653b44b",
            "0cc57922cace48cba3ad16f30876241b",
            "46adc516f06a40e2aee192eff396d27d",
            "3a82568eba824fbe9dc483b71ae4464d",
            "32462ac38a8645fa8d719dead8cff586",
            "e845de5b7ad2415b9e9c58fa4519b1b4",
            "4b23c042c0154fd8a58756c2a1d8c5a5",
            "d9be823bbe02479fbb0ab6c06a2d04f9",
            "05fdfe6385af4b22be565a956bde5e36",
            "aa7b5340a7374030b9da65bd64694b29",
            "f24ef3fce7c04126902cd85dcb1317d1",
            "ca8123436f00499dabf2cc1afda02ebb",
            "71a8b421d4744a34aa7e1aa3a62b9ed8",
            "e65b684e0b3643ffbffdf14f67b1ec11",
            "0c9618d14727440681b52dc5a95eea70",
            "f6f50aa71e204efa8db590b3a5bad715",
            "7401d57b35f74aff894e1cc8ef48fc6d",
            "c4819a7e173648e3ab17db6b3632f053",
            "cb5544731cb5445089ad2aece823b685",
            "24b4591345784ecfb7be0ab78d08b9bc"
          ]
        },
        "id": "uTeO_3w8m-Em",
        "outputId": "acd0fb04-57d6-4d07-c522-ea54cce16047"
      },
      "execution_count": null,
      "outputs": [
        {
          "output_type": "display_data",
          "data": {
            "text/plain": [
              "modules.json:   0%|          | 0.00/122 [00:00<?, ?B/s]"
            ],
            "application/vnd.jupyter.widget-view+json": {
              "version_major": 2,
              "version_minor": 0,
              "model_id": "308ffea3c3fb43bf948a3b093c9647f0"
            }
          },
          "metadata": {}
        },
        {
          "output_type": "display_data",
          "data": {
            "text/plain": [
              "config_sentence_transformers.json:   0%|          | 0.00/116 [00:00<?, ?B/s]"
            ],
            "application/vnd.jupyter.widget-view+json": {
              "version_major": 2,
              "version_minor": 0,
              "model_id": "0177c5155f834f1a916487e51516c3fe"
            }
          },
          "metadata": {}
        },
        {
          "output_type": "display_data",
          "data": {
            "text/plain": [
              "README.md:   0%|          | 0.00/1.91k [00:00<?, ?B/s]"
            ],
            "application/vnd.jupyter.widget-view+json": {
              "version_major": 2,
              "version_minor": 0,
              "model_id": "b8eb0146c5cf4b58973bfbc9fb24dd95"
            }
          },
          "metadata": {}
        },
        {
          "output_type": "display_data",
          "data": {
            "text/plain": [
              "pytorch_model.bin:   0%|          | 0.00/605M [00:00<?, ?B/s]"
            ],
            "application/vnd.jupyter.widget-view+json": {
              "version_major": 2,
              "version_minor": 0,
              "model_id": "ba06bddbe2a04d1b9c0d3f5b6e67267a"
            }
          },
          "metadata": {}
        },
        {
          "output_type": "display_data",
          "data": {
            "text/plain": [
              "tokenizer_config.json:   0%|          | 0.00/604 [00:00<?, ?B/s]"
            ],
            "application/vnd.jupyter.widget-view+json": {
              "version_major": 2,
              "version_minor": 0,
              "model_id": "a44aa5b5db3b4a95b41bafca204c268d"
            }
          },
          "metadata": {}
        },
        {
          "output_type": "display_data",
          "data": {
            "text/plain": [
              "merges.txt:   0%|          | 0.00/525k [00:00<?, ?B/s]"
            ],
            "application/vnd.jupyter.widget-view+json": {
              "version_major": 2,
              "version_minor": 0,
              "model_id": "bc62d507d66840b0a7f4f6c3723910c3"
            }
          },
          "metadata": {}
        },
        {
          "output_type": "display_data",
          "data": {
            "text/plain": [
              "preprocessor_config.json:   0%|          | 0.00/316 [00:00<?, ?B/s]"
            ],
            "application/vnd.jupyter.widget-view+json": {
              "version_major": 2,
              "version_minor": 0,
              "model_id": "76fe2b38a877443eaa3a975e09c347ae"
            }
          },
          "metadata": {}
        },
        {
          "output_type": "display_data",
          "data": {
            "text/plain": [
              "config.json:   0%|          | 0.00/4.03k [00:00<?, ?B/s]"
            ],
            "application/vnd.jupyter.widget-view+json": {
              "version_major": 2,
              "version_minor": 0,
              "model_id": "6a08016ca9fe4944a157c86f2ac298a0"
            }
          },
          "metadata": {}
        },
        {
          "output_type": "display_data",
          "data": {
            "text/plain": [
              "special_tokens_map.json:   0%|          | 0.00/389 [00:00<?, ?B/s]"
            ],
            "application/vnd.jupyter.widget-view+json": {
              "version_major": 2,
              "version_minor": 0,
              "model_id": "5a00d25f416b4e0f86137577c801074a"
            }
          },
          "metadata": {}
        },
        {
          "output_type": "display_data",
          "data": {
            "text/plain": [
              "vocab.json:   0%|          | 0.00/961k [00:00<?, ?B/s]"
            ],
            "application/vnd.jupyter.widget-view+json": {
              "version_major": 2,
              "version_minor": 0,
              "model_id": "aa7b5340a7374030b9da65bd64694b29"
            }
          },
          "metadata": {}
        },
        {
          "output_type": "stream",
          "name": "stderr",
          "text": [
            "Using a slow image processor as `use_fast` is unset and a slow processor was saved with this model. `use_fast=True` will be the default behavior in v4.52, even if the model was saved with a slow processor. This will result in minor differences in outputs. You'll still be able to use a slow processor with `use_fast=False`.\n"
          ]
        }
      ]
    },
    {
      "cell_type": "code",
      "source": [
        "query_text=[\"A stylish red shoes\"]\n",
        "query_embedding = model.encode(query_text, convert_to_tensor=True).cpu().numpy().astype(\"float32\")\n",
        "\n",
        "# Normalize for cosine similarity (since we used IndexFlatIP)\n",
        "faiss.normalize_L2(query_embedding)"
      ],
      "metadata": {
        "id": "kn1tjPxlnBBQ"
      },
      "execution_count": null,
      "outputs": []
    },
    {
      "cell_type": "code",
      "source": [
        "D, I = index.search(query_embedding, 5)  # Find top 5 similar products\n",
        "\n",
        "print(\"Top 5 similar product indices:\", I[0])"
      ],
      "metadata": {
        "colab": {
          "base_uri": "https://localhost:8080/"
        },
        "id": "5HoZxlasnD8O",
        "outputId": "b99856de-c27e-4ed5-dbb5-3b7a46d06a77"
      },
      "execution_count": null,
      "outputs": [
        {
          "output_type": "stream",
          "name": "stdout",
          "text": [
            "Top 5 similar product indices: [14622  9585    69 33473 20238]\n"
          ]
        }
      ]
    },
    {
      "cell_type": "code",
      "source": [
        "import pandas as pd\n",
        "df = pd.DataFrame(dataset)"
      ],
      "metadata": {
        "id": "eSvFeqyLnFkv"
      },
      "execution_count": null,
      "outputs": []
    },
    {
      "cell_type": "code",
      "source": [
        "gender=\"Men\"\n",
        "usage=None\n",
        "baseColour=None\n",
        "season=None\n",
        "articleType=None"
      ],
      "metadata": {
        "id": "xGu05SVMnHIx"
      },
      "execution_count": null,
      "outputs": []
    },
    {
      "cell_type": "code",
      "source": [
        "\n",
        "filtered=df.iloc[I[0]]\n",
        "query = True  # Default condition (select all)\n",
        "\n",
        "if gender is not None:\n",
        "    query &= filtered[\"gender\"] == gender  # Apply gender filter\n",
        "\n",
        "if usage is not None:\n",
        "    query &= filtered[\"usage\"] == usage  # Apply usage filter\n",
        "if baseColour is not None:\n",
        "    query &= filtered[\"baseColour\"] == baseColour\n",
        "\n",
        "if season is not None:\n",
        "    query &= filtered[\"season\"] == season  # Apply usage filter\n",
        "\n",
        "\n",
        "if articleType is not None:\n",
        "    query &= filtered[\"articleType\"] == articleType  # Apply usage filter\n",
        "filtered = filtered[query]\n"
      ],
      "metadata": {
        "id": "oETGdraanIqg"
      },
      "execution_count": null,
      "outputs": []
    },
    {
      "cell_type": "code",
      "source": [
        "filtered"
      ],
      "metadata": {
        "id": "tPCSRJ1lnKcI"
      },
      "execution_count": null,
      "outputs": []
    },
    {
      "cell_type": "code",
      "source": [
        "import cv2\n",
        "import matplotlib.pyplot as plt\n",
        "fig, axes = plt.subplots(1, len(filtered), figsize=(10, 5))\n",
        "for ax, (_, row) in zip(axes,filtered.iterrows()):\n",
        "    img = row[\"image\"]  # Directly use NumPy array\n",
        "\n",
        "    ax.imshow(img)  # Display image\n",
        "    ax.axis(\"off\")  # Hide axes\n",
        "\n",
        "    # Create text label\n",
        "    label = f\"{row['productDisplayName']}\\n{row['usage']} | {row['season']}\\n{row['articleType']} | {row['subCategory']}\"\n",
        "    ax.set_title(label, fontsize=10)\n",
        "\n",
        "plt.tight_layout()\n",
        "plt.show()"
      ],
      "metadata": {
        "colab": {
          "base_uri": "https://localhost:8080/",
          "height": 507
        },
        "id": "f28LM8M_nMCO",
        "outputId": "4f5cef22-8f22-4f53-fa80-c163db54db51"
      },
      "execution_count": null,
      "outputs": [
        {
          "output_type": "display_data",
          "data": {
            "text/plain": [
              "<Figure size 1000x500 with 3 Axes>"
            ],
            "image/png": "[encoded data removed]"
          },
          "metadata": {}
        }
      ]
    }
  ]
}