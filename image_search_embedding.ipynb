{
  "nbformat": 4,
  "nbformat_minor": 0,
  "metadata": {
    "colab": {
      "provenance": [],
      "authorship_tag": "ABX9TyOJlFvpl9MbQQJy/aHd3TBu",
      "include_colab_link": true
    },
    "kernelspec": {
      "name": "python3",
      "display_name": "Python 3"
    },
    "language_info": {
      "name": "python"
    }
  },
  "cells": [
    {
      "cell_type": "markdown",
      "metadata": {
        "id": "view-in-github",
        "colab_type": "text"
      },
      "source": [
        "<a href=\"https://colab.research.google.com/github/amgothhrithik/Search_Engine/blob/main/image_search_embedding.ipynb\" target=\"_parent\"><img src=\"https://colab.research.google.com/assets/colab-badge.svg\" alt=\"Open In Colab\"/></a>"
      ]
    },
    {
      "cell_type": "code",
      "execution_count": null,
      "metadata": {
        "id": "ExW-osAe63ST",
        "colab": {
          "base_uri": "https://localhost:8080/"
        },
        "outputId": "a1c9adb7-4d5f-4709-e41c-8b9f4421aa96"
      },
      "outputs": [
        {
          "output_type": "stream",
          "name": "stdout",
          "text": [
            "Mounted at /content/drive\n"
          ]
        }
      ],
      "source": [
        "from google.colab import drive\n",
        "drive.mount('/content/drive')"
      ]
    },
    {
      "cell_type": "code",
      "source": [
        "!pip install datasets"
      ],
      "metadata": {
        "colab": {
          "base_uri": "https://localhost:8080/"
        },
        "id": "r5FP3FRQ63nx",
        "outputId": "c8237d30-6de0-4469-a46c-8ea6f327ae02",
        "collapsed": true
      },
      "execution_count": null,
      "outputs": [
        {
          "output_type": "stream",
          "name": "stdout",
          "text": [
            "Collecting datasets\n",
            "  Downloading datasets-3.5.0-py3-none-any.whl.metadata (19 kB)\n",
            "Requirement already satisfied: filelock in /usr/local/lib/python3.11/dist-packages (from datasets) (3.18.0)\n",
            "Requirement already satisfied: numpy>=1.17 in /usr/local/lib/python3.11/dist-packages (from datasets) (2.0.2)\n",
            "Requirement already satisfied: pyarrow>=15.0.0 in /usr/local/lib/python3.11/dist-packages (from datasets) (18.1.0)\n",
            "Collecting dill<0.3.9,>=0.3.0 (from datasets)\n",
            "  Downloading dill-0.3.8-py3-none-any.whl.metadata (10 kB)\n",
            "Requirement already satisfied: pandas in /usr/local/lib/python3.11/dist-packages (from datasets) (2.2.2)\n",
            "Requirement already satisfied: requests>=2.32.2 in /usr/local/lib/python3.11/dist-packages (from datasets) (2.32.3)\n",
            "Requirement already satisfied: tqdm>=4.66.3 in /usr/local/lib/python3.11/dist-packages (from datasets) (4.67.1)\n",
            "Collecting xxhash (from datasets)\n",
            "  Downloading xxhash-3.5.0-cp311-cp311-manylinux_2_17_x86_64.manylinux2014_x86_64.whl.metadata (12 kB)\n",
            "Collecting multiprocess<0.70.17 (from datasets)\n",
            "  Downloading multiprocess-0.70.16-py311-none-any.whl.metadata (7.2 kB)\n",
            "Collecting fsspec<=2024.12.0,>=2023.1.0 (from fsspec[http]<=2024.12.0,>=2023.1.0->datasets)\n",
            "  Downloading fsspec-2024.12.0-py3-none-any.whl.metadata (11 kB)\n",
            "Requirement already satisfied: aiohttp in /usr/local/lib/python3.11/dist-packages (from datasets) (3.11.15)\n",
            "Requirement already satisfied: huggingface-hub>=0.24.0 in /usr/local/lib/python3.11/dist-packages (from datasets) (0.30.1)\n",
            "Requirement already satisfied: packaging in /usr/local/lib/python3.11/dist-packages (from datasets) (24.2)\n",
            "Requirement already satisfied: pyyaml>=5.1 in /usr/local/lib/python3.11/dist-packages (from datasets) (6.0.2)\n",
            "Requirement already satisfied: aiohappyeyeballs>=2.3.0 in /usr/local/lib/python3.11/dist-packages (from aiohttp->datasets) (2.6.1)\n",
            "Requirement already satisfied: aiosignal>=1.1.2 in /usr/local/lib/python3.11/dist-packages (from aiohttp->datasets) (1.3.2)\n",
            "Requirement already satisfied: attrs>=17.3.0 in /usr/local/lib/python3.11/dist-packages (from aiohttp->datasets) (25.3.0)\n",
            "Requirement already satisfied: frozenlist>=1.1.1 in /usr/local/lib/python3.11/dist-packages (from aiohttp->datasets) (1.5.0)\n",
            "Requirement already satisfied: multidict<7.0,>=4.5 in /usr/local/lib/python3.11/dist-packages (from aiohttp->datasets) (6.3.1)\n",
            "Requirement already satisfied: propcache>=0.2.0 in /usr/local/lib/python3.11/dist-packages (from aiohttp->datasets) (0.3.1)\n",
            "Requirement already satisfied: yarl<2.0,>=1.17.0 in /usr/local/lib/python3.11/dist-packages (from aiohttp->datasets) (1.18.3)\n",
            "Requirement already satisfied: typing-extensions>=3.7.4.3 in /usr/local/lib/python3.11/dist-packages (from huggingface-hub>=0.24.0->datasets) (4.13.0)\n",
            "Requirement already satisfied: charset-normalizer<4,>=2 in /usr/local/lib/python3.11/dist-packages (from requests>=2.32.2->datasets) (3.4.1)\n",
            "Requirement already satisfied: idna<4,>=2.5 in /usr/local/lib/python3.11/dist-packages (from requests>=2.32.2->datasets) (3.10)\n",
            "Requirement already satisfied: urllib3<3,>=1.21.1 in /usr/local/lib/python3.11/dist-packages (from requests>=2.32.2->datasets) (2.3.0)\n",
            "Requirement already satisfied: certifi>=2017.4.17 in /usr/local/lib/python3.11/dist-packages (from requests>=2.32.2->datasets) (2025.1.31)\n",
            "Requirement already satisfied: python-dateutil>=2.8.2 in /usr/local/lib/python3.11/dist-packages (from pandas->datasets) (2.8.2)\n",
            "Requirement already satisfied: pytz>=2020.1 in /usr/local/lib/python3.11/dist-packages (from pandas->datasets) (2025.2)\n",
            "Requirement already satisfied: tzdata>=2022.7 in /usr/local/lib/python3.11/dist-packages (from pandas->datasets) (2025.2)\n",
            "Requirement already satisfied: six>=1.5 in /usr/local/lib/python3.11/dist-packages (from python-dateutil>=2.8.2->pandas->datasets) (1.17.0)\n",
            "Downloading datasets-3.5.0-py3-none-any.whl (491 kB)\n",
            "\u001b[2K   \u001b[90m━━━━━━━━━━━━━━━━━━━━━━━━━━━━━━━━━━━━━━━━\u001b[0m \u001b[32m491.2/491.2 kB\u001b[0m \u001b[31m8.2 MB/s\u001b[0m eta \u001b[36m0:00:00\u001b[0m\n",
            "\u001b[?25hDownloading dill-0.3.8-py3-none-any.whl (116 kB)\n",
            "\u001b[2K   \u001b[90m━━━━━━━━━━━━━━━━━━━━━━━━━━━━━━━━━━━━━━━━\u001b[0m \u001b[32m116.3/116.3 kB\u001b[0m \u001b[31m8.5 MB/s\u001b[0m eta \u001b[36m0:00:00\u001b[0m\n",
            "\u001b[?25hDownloading fsspec-2024.12.0-py3-none-any.whl (183 kB)\n",
            "\u001b[2K   \u001b[90m━━━━━━━━━━━━━━━━━━━━━━━━━━━━━━━━━━━━━━━━\u001b[0m \u001b[32m183.9/183.9 kB\u001b[0m \u001b[31m12.4 MB/s\u001b[0m eta \u001b[36m0:00:00\u001b[0m\n",
            "\u001b[?25hDownloading multiprocess-0.70.16-py311-none-any.whl (143 kB)\n",
            "\u001b[2K   \u001b[90m━━━━━━━━━━━━━━━━━━━━━━━━━━━━━━━━━━━━━━━━\u001b[0m \u001b[32m143.5/143.5 kB\u001b[0m \u001b[31m10.3 MB/s\u001b[0m eta \u001b[36m0:00:00\u001b[0m\n",
            "\u001b[?25hDownloading xxhash-3.5.0-cp311-cp311-manylinux_2_17_x86_64.manylinux2014_x86_64.whl (194 kB)\n",
            "\u001b[2K   \u001b[90m━━━━━━━━━━━━━━━━━━━━━━━━━━━━━━━━━━━━━━━━\u001b[0m \u001b[32m194.8/194.8 kB\u001b[0m \u001b[31m13.1 MB/s\u001b[0m eta \u001b[36m0:00:00\u001b[0m\n",
            "\u001b[?25hInstalling collected packages: xxhash, fsspec, dill, multiprocess, datasets\n",
            "  Attempting uninstall: fsspec\n",
            "    Found existing installation: fsspec 2025.3.2\n",
            "    Uninstalling fsspec-2025.3.2:\n",
            "      Successfully uninstalled fsspec-2025.3.2\n",
            "\u001b[31mERROR: pip's dependency resolver does not currently take into account all the packages that are installed. This behaviour is the source of the following dependency conflicts.\n",
            "torch 2.6.0+cu124 requires nvidia-cublas-cu12==12.4.5.8; platform_system == \"Linux\" and platform_machine == \"x86_64\", but you have nvidia-cublas-cu12 12.5.3.2 which is incompatible.\n",
            "torch 2.6.0+cu124 requires nvidia-cuda-cupti-cu12==12.4.127; platform_system == \"Linux\" and platform_machine == \"x86_64\", but you have nvidia-cuda-cupti-cu12 12.5.82 which is incompatible.\n",
            "torch 2.6.0+cu124 requires nvidia-cuda-nvrtc-cu12==12.4.127; platform_system == \"Linux\" and platform_machine == \"x86_64\", but you have nvidia-cuda-nvrtc-cu12 12.5.82 which is incompatible.\n",
            "torch 2.6.0+cu124 requires nvidia-cuda-runtime-cu12==12.4.127; platform_system == \"Linux\" and platform_machine == \"x86_64\", but you have nvidia-cuda-runtime-cu12 12.5.82 which is incompatible.\n",
            "torch 2.6.0+cu124 requires nvidia-cudnn-cu12==9.1.0.70; platform_system == \"Linux\" and platform_machine == \"x86_64\", but you have nvidia-cudnn-cu12 9.3.0.75 which is incompatible.\n",
            "torch 2.6.0+cu124 requires nvidia-cufft-cu12==11.2.1.3; platform_system == \"Linux\" and platform_machine == \"x86_64\", but you have nvidia-cufft-cu12 11.2.3.61 which is incompatible.\n",
            "torch 2.6.0+cu124 requires nvidia-curand-cu12==10.3.5.147; platform_system == \"Linux\" and platform_machine == \"x86_64\", but you have nvidia-curand-cu12 10.3.6.82 which is incompatible.\n",
            "torch 2.6.0+cu124 requires nvidia-cusolver-cu12==11.6.1.9; platform_system == \"Linux\" and platform_machine == \"x86_64\", but you have nvidia-cusolver-cu12 11.6.3.83 which is incompatible.\n",
            "torch 2.6.0+cu124 requires nvidia-cusparse-cu12==12.3.1.170; platform_system == \"Linux\" and platform_machine == \"x86_64\", but you have nvidia-cusparse-cu12 12.5.1.3 which is incompatible.\n",
            "torch 2.6.0+cu124 requires nvidia-nvjitlink-cu12==12.4.127; platform_system == \"Linux\" and platform_machine == \"x86_64\", but you have nvidia-nvjitlink-cu12 12.5.82 which is incompatible.\n",
            "gcsfs 2025.3.2 requires fsspec==2025.3.2, but you have fsspec 2024.12.0 which is incompatible.\u001b[0m\u001b[31m\n",
            "\u001b[0mSuccessfully installed datasets-3.5.0 dill-0.3.8 fsspec-2024.12.0 multiprocess-0.70.16 xxhash-3.5.0\n"
          ]
        }
      ]
    },
    {
      "cell_type": "code",
      "source": [
        "from datasets import load_dataset\n",
        "\n",
        "dataset =  load_dataset(\n",
        "    \"ashraq/fashion-product-images-small\",\n",
        "    split=\"train\" )\n"
      ],
      "metadata": {
        "colab": {
          "base_uri": "https://localhost:8080/",
          "height": 254,
          "referenced_widgets": [
            "18aa5a87d6ce4d2dab3ae2e360354f1f",
            "2577e606c55e43158a8cb30f87c00370",
            "32c8ee96c58b497c9c0a337bf44816e5",
            "3958f6cb40a14cecae97f77fae9a804a",
            "eff6751ee7014cf5bb6abeaa8045e445",
            "b2b5dcd3083a4668a595e2afa1611662",
            "9111da513165407dafd58e0b742349d4",
            "e361fcbc473648c8ad1056f3b7a65663",
            "9fecca411c1045ca9882777e973b8eac",
            "030a89cf51044aa0bbc6cc52e3e1e265",
            "52bae3518e5e4b71834d6f17e5983654",
            "39bf2f0f8ae14924b71d4424fa68be58",
            "260061c0667745bba5b1fd4a86649891",
            "d40806952aa64a6eb3cc0289024b276e",
            "cc1a9130bd814f548196b53264f2636d",
            "68a1b43227ba469f861e2b026bb079ed",
            "07e475ec4b06421da5919c3cfdfe55c5",
            "cedfd016985d4b3b9a110111781d94f7",
            "c094233f8028437295df3003856fea36",
            "e2dda4f775a1439abc0fd99ba89d8f84",
            "b0dbddac623d445a86fbfacb48cd1e61",
            "86d0acc9d6554371a3463b1ced1debdb",
            "fac67c526f214bd49ad6a14d26789430",
            "a9dd45a97a414a47af6cd05dcf80c389",
            "86345e41d1f4408f8570d278c12f2608",
            "376cf5be0e664105aa4f094f2f4bd812",
            "34f63de2fa8946cfa28694e915b7ebe0",
            "3a6c8fc026f54252ae59e87f8d30b00e",
            "15419d67e58746888ef5725dc04b1943",
            "360ffc22200b485a8c47e3ccddae6474",
            "3540a546bf7b4c19a7f9a590587af0c0",
            "18d6d12c7b1d4cdba03bb6bdf216cb34",
            "9ee00aaba6bf4aea950cc28d9e0e0840",
            "978931f6359244c8918edfec636fa016",
            "aa896538ed40414187776fa4e8c7dc18",
            "729667ac9c8b4ae08865ceb1c5e1d604",
            "fbc74d6ec7b04bc1b7a48c79491ff2c5",
            "896bcc32304143d1b10e21ebdb3906b8",
            "e0ce9b27ecfa4695939a383060fadf99",
            "ec30d6ad048a4a82ad60c8c1cf18ecde",
            "e25b4d2d52db414f9a6688529902ab25",
            "063933e1e76c4c7c93577997f145a5c9",
            "12c09505b98f4096ad988e184642c82a",
            "197470d202524e7a90358c41aada09c1"
          ]
        },
        "id": "zoLQV_TcIMR3",
        "outputId": "0afe3936-0534-426d-c0ac-d1a83a324de2",
        "collapsed": true
      },
      "execution_count": null,
      "outputs": [
        {
          "output_type": "stream",
          "name": "stderr",
          "text": [
            "/usr/local/lib/python3.11/dist-packages/huggingface_hub/utils/_auth.py:94: UserWarning: \n",
            "The secret `HF_TOKEN` does not exist in your Colab secrets.\n",
            "To authenticate with the Hugging Face Hub, create a token in your settings tab (https://huggingface.co/settings/tokens), set it as secret in your Google Colab and restart your session.\n",
            "You will be able to reuse this secret in all of your notebooks.\n",
            "Please note that authentication is recommended but still optional to access public models or datasets.\n",
            "  warnings.warn(\n"
          ]
        },
        {
          "output_type": "display_data",
          "data": {
            "text/plain": [
              "README.md:   0%|          | 0.00/867 [00:00<?, ?B/s]"
            ],
            "application/vnd.jupyter.widget-view+json": {
              "version_major": 2,
              "version_minor": 0,
              "model_id": "18aa5a87d6ce4d2dab3ae2e360354f1f"
            }
          },
          "metadata": {}
        },
        {
          "output_type": "display_data",
          "data": {
            "text/plain": [
              "(…)-00000-of-00002-6cff4c59f91661c3.parquet:   0%|          | 0.00/136M [00:00<?, ?B/s]"
            ],
            "application/vnd.jupyter.widget-view+json": {
              "version_major": 2,
              "version_minor": 0,
              "model_id": "39bf2f0f8ae14924b71d4424fa68be58"
            }
          },
          "metadata": {}
        },
        {
          "output_type": "display_data",
          "data": {
            "text/plain": [
              "(…)-00001-of-00002-bb459e5ac5f01e71.parquet:   0%|          | 0.00/135M [00:00<?, ?B/s]"
            ],
            "application/vnd.jupyter.widget-view+json": {
              "version_major": 2,
              "version_minor": 0,
              "model_id": "fac67c526f214bd49ad6a14d26789430"
            }
          },
          "metadata": {}
        },
        {
          "output_type": "display_data",
          "data": {
            "text/plain": [
              "Generating train split:   0%|          | 0/44072 [00:00<?, ? examples/s]"
            ],
            "application/vnd.jupyter.widget-view+json": {
              "version_major": 2,
              "version_minor": 0,
              "model_id": "978931f6359244c8918edfec636fa016"
            }
          },
          "metadata": {}
        }
      ]
    },
    {
      "cell_type": "code",
      "source": [
        "print(dataset.features)"
      ],
      "metadata": {
        "id": "3mV2hGVdIbFE",
        "outputId": "4911dc36-5fc4-4580-b369-832479d1ae35",
        "colab": {
          "base_uri": "https://localhost:8080/"
        }
      },
      "execution_count": null,
      "outputs": [
        {
          "output_type": "stream",
          "name": "stdout",
          "text": [
            "{'id': Value(dtype='int64', id=None), 'gender': Value(dtype='string', id=None), 'masterCategory': Value(dtype='string', id=None), 'subCategory': Value(dtype='string', id=None), 'articleType': Value(dtype='string', id=None), 'baseColour': Value(dtype='string', id=None), 'season': Value(dtype='string', id=None), 'year': Value(dtype='float64', id=None), 'usage': Value(dtype='string', id=None), 'productDisplayName': Value(dtype='string', id=None), 'image': Image(mode=None, decode=True, id=None)}\n"
          ]
        }
      ]
    },
    {
      "cell_type": "code",
      "source": [
        "print(dataset[100])"
      ],
      "metadata": {
        "colab": {
          "base_uri": "https://localhost:8080/"
        },
        "id": "u_jlAR1DOg6R",
        "outputId": "16842c86-265b-4676-8950-53667a2973fe"
      },
      "execution_count": null,
      "outputs": [
        {
          "output_type": "stream",
          "name": "stdout",
          "text": [
            "{'id': 19311, 'gender': 'Men', 'masterCategory': 'Footwear', 'subCategory': 'Shoes', 'articleType': 'Casual Shoes', 'baseColour': 'White', 'season': 'Fall', 'year': 2011.0, 'usage': 'Casual', 'productDisplayName': 'Nike Men Air Rift MTR White Casual Shoe', 'image': <PIL.Image.Image image mode=RGB size=60x80 at 0x7BD768998450>}\n"
          ]
        }
      ]
    },
    {
      "cell_type": "code",
      "source": [
        "\n",
        "\n",
        "from sentence_transformers import SentenceTransformer, util\n",
        "from PIL import Image\n",
        "import torch\n",
        "device = \"cuda\" if torch.cuda.is_available() else \"cpu\"\n",
        "#Load CLIP model\n",
        "model = SentenceTransformer('clip-ViT-B-32').to(device)"
      ],
      "metadata": {
        "collapsed": true,
        "id": "Qoo9On5OFTbN",
        "colab": {
          "base_uri": "https://localhost:8080/",
          "height": 375,
          "referenced_widgets": [
            "3209b8dfb308493ca2cdefb29608fa12",
            "5ef4663fa8c34d7aba830b21a7c79ec7",
            "c098eb0b22e74a38a572b3c55581e3ae",
            "888b79498549420696e83ad0f7872ff2",
            "09745f4557f542d38d04771a04efc8fa",
            "3ce13eb32d4145f19183e66ac9021852",
            "6ffaeddaf6e54b718f7a5106ed7ef395",
            "19b150f0dc934751b651a955dbc4d30a",
            "71e9c1a9473f4107b1472ac50960cd8f",
            "ad66970a3b6e4118b47ede4158d7a622",
            "fed253ea8ef942a6906a7cae3c18d888",
            "5a0e932f02544444860a63be2ba1237a",
            "3c5b31dcbb834fe1aa196464b11ac8ba",
            "606e3e669ba5424e984271918dd80ec5",
            "854de9566e6f4fe1ae47a47642dd1fca",
            "ad5e1a0c296e48c8ad0b77dad77d2608",
            "534d33e3389a4ab89e61a7a50fe03e5c",
            "7b722efbff124718b7b633c3fc30afa1",
            "4c61b27098ed43dc97891d4f9c9c7df2",
            "2bc1c136208e438985700b16969d6d47",
            "64b0143201a24cb99c0ddc6be8b1ce87",
            "1c5bb6d563874390adf4960f4494438a",
            "c793bdc2711a4edaa259c4fe6f7224cc",
            "d382720f1c7e4617b9e7249b10b6d468",
            "60c1ff8a20464d3c9c174dda9be05b6c",
            "251afb6eda344262b17496ee547360e0",
            "e8d2a073420f43e8bccd1d72e4deb7ab",
            "0487798868074496adf15803377ab2b0",
            "125c400fc6f8474cbbbe4fbcc00edfb4",
            "1522b6af7a05400889008d8d0854addf",
            "a1d8b772ab754ed88e807dd3df82eb46",
            "67687dc1b7164e71bb6c776aee33c2ab",
            "2cc4712ae9b04f8bb755288b7acd2a8e",
            "490bd6a5d4bb46f8b8d3ce3350fdbf33",
            "ba3fa61c9465447d85b655e5a3c65def",
            "eec4ef9bda454750b705ffaa5a6635ce",
            "13b96744c5c94c02854c30a5ac4cff44",
            "edec18735e2146a180bb5b25252c50d0",
            "16b19d58950348979fa1d16c0d3f6e1a",
            "d34e2e90115a4c3bb06c4fb616382564",
            "a5faeb3119474d0684a20f0173679700",
            "43cd94dc57584e72b5cfb8289e9072dd",
            "ee85052b65724de3ac2282e0bdbf579a",
            "d5c01bc174304d808feb5cc69a5faa6c",
            "e6292190ec33421db2868d862818a585",
            "4299465faa2c4f039145965f7d7287c1",
            "741f1285e25c4b6cac19e524ebd17d22",
            "e0367aae93fe479b80cdd3fbfb4998c0",
            "e127dbe736de4144a4d7b70bb8692233",
            "f3b6b9bad1be4a5d965517284354946f",
            "6de55251b6574e9e8250368ca796beaa",
            "e3cdfdb28f7847a2808b400261904a4b",
            "e70d4fa72ef54bbf87b9f8fa05f36169",
            "3351110e4701456c89f8411028f21ba2",
            "bbff43577501416981703277aec5e74e",
            "104a7313fd564995bd93177defe417d3",
            "acef0b84d8d641f38451356921b9ad9a",
            "400c362859624fefb0d883f1b8ffa935",
            "e5e1604339154a819b6575e3db7b8573",
            "be7d13631c2d4497af0bc7a87034488a",
            "460d3ab123fc4db9bd40f3cf1e388a83",
            "4203e751f9c249329ca87ba2a0db892c",
            "c2d78a1955914e57a6530fff4977d378",
            "bac88f5f8ee54f67b258926fb5cc2050",
            "16c8257aa2164980b4d400528c55bc28",
            "51d631ad14bb4436b5ff372921a9b3e7",
            "fb90bcf8b6dd4efabf6cf833d513ffea",
            "71e33f0317ce440689005f6ee6fa8eef",
            "c4493c32ee74473982b3a907ed6d3a4d",
            "486adb5bb22e49d999a1b8ce013c5d32",
            "cb3b11ff9d8e4e799d7a17cef93c1c86",
            "fdda2a84ccad49b4b72f5c76ba628d2f",
            "a13ec679a9434378a2bcc6c68647d05d",
            "2e5b7733814a45149c889dbcee5443a8",
            "f0c0852471de4aaa876e80c07ead2b69",
            "d828e4597fc54367bacd584b2a252163",
            "ed82f2c904344c67a7ee64a85abfa57a",
            "f7de8548d713446ba084e9cd79c35371",
            "ae8e9871d82f498e8e240db178f270fe",
            "623783c514544159a0059d7356d7a142",
            "39e4bff8089a4830a49aecb19828251c",
            "d41705ece60a4212aada1438ebb07818",
            "8195c190b93a48b19f519f0cc65acdca",
            "afa44bab75184830bcf4790a9694f1bb",
            "1cbd181166bf49738599b958b622a895",
            "10b2dcc6f3b9427c8426ade9b09aa7c9",
            "1935f64806e1422b98f23fcedcbc774c",
            "21ff495596ab4de5b91d4c29fad2ca8a",
            "383beeea462a4ab1b926cb09ad0edcb8",
            "4555826a510c45f880f3996a0500f68d",
            "101cecb6f9f347fb817ad95dbba6fde5",
            "20e0af9f53ac4bf8b51d11514e793dea",
            "bebe5c2a3d63443d870e42b50c08ff5d",
            "5bf8166f9e434433a25f8640db1ed6b7",
            "7c48c5352b964b6aa0fe20f837f64d9b",
            "0395dd46a703420f9d96f796b9ef560d",
            "09346ba3c949498cbe9632d270c54fee",
            "d26e49d912b649e4a6f7976cbe6bec19",
            "a11cf863ee7942f6b883b36acd342790",
            "34ffba9378c34d66a3987d9364838856",
            "5a22a400f853412ca6d79bf50df23b34",
            "5b8dc0141b7648c087b779060ca044c7",
            "e955e27e4e3645e29ed3a121774868ef",
            "57474b265792496c9a47d15e10019277",
            "ea3eea12831e49c18a699123e72e50fd",
            "db13adae15614f63b753054a9fe6e5ed",
            "b7645a7f136a466b9397c50c3d68a930",
            "b2146df2186e499da1d9bb8de13b1f53",
            "6daddf280ad34f75ba7bfa3692897128",
            "17d38e63796c464d84b1cd115d5a8d91"
          ]
        },
        "outputId": "58adc363-480e-4326-bde4-b9f7e0eaa413"
      },
      "execution_count": null,
      "outputs": [
        {
          "output_type": "display_data",
          "data": {
            "text/plain": [
              "modules.json:   0%|          | 0.00/122 [00:00<?, ?B/s]"
            ],
            "application/vnd.jupyter.widget-view+json": {
              "version_major": 2,
              "version_minor": 0,
              "model_id": "3209b8dfb308493ca2cdefb29608fa12"
            }
          },
          "metadata": {}
        },
        {
          "output_type": "display_data",
          "data": {
            "text/plain": [
              "config_sentence_transformers.json:   0%|          | 0.00/116 [00:00<?, ?B/s]"
            ],
            "application/vnd.jupyter.widget-view+json": {
              "version_major": 2,
              "version_minor": 0,
              "model_id": "5a0e932f02544444860a63be2ba1237a"
            }
          },
          "metadata": {}
        },
        {
          "output_type": "display_data",
          "data": {
            "text/plain": [
              "README.md:   0%|          | 0.00/1.91k [00:00<?, ?B/s]"
            ],
            "application/vnd.jupyter.widget-view+json": {
              "version_major": 2,
              "version_minor": 0,
              "model_id": "c793bdc2711a4edaa259c4fe6f7224cc"
            }
          },
          "metadata": {}
        },
        {
          "output_type": "display_data",
          "data": {
            "text/plain": [
              "merges.txt:   0%|          | 0.00/525k [00:00<?, ?B/s]"
            ],
            "application/vnd.jupyter.widget-view+json": {
              "version_major": 2,
              "version_minor": 0,
              "model_id": "490bd6a5d4bb46f8b8d3ce3350fdbf33"
            }
          },
          "metadata": {}
        },
        {
          "output_type": "display_data",
          "data": {
            "text/plain": [
              "preprocessor_config.json:   0%|          | 0.00/316 [00:00<?, ?B/s]"
            ],
            "application/vnd.jupyter.widget-view+json": {
              "version_major": 2,
              "version_minor": 0,
              "model_id": "e6292190ec33421db2868d862818a585"
            }
          },
          "metadata": {}
        },
        {
          "output_type": "display_data",
          "data": {
            "text/plain": [
              "pytorch_model.bin:   0%|          | 0.00/605M [00:00<?, ?B/s]"
            ],
            "application/vnd.jupyter.widget-view+json": {
              "version_major": 2,
              "version_minor": 0,
              "model_id": "104a7313fd564995bd93177defe417d3"
            }
          },
          "metadata": {}
        },
        {
          "output_type": "display_data",
          "data": {
            "text/plain": [
              "config.json:   0%|          | 0.00/4.03k [00:00<?, ?B/s]"
            ],
            "application/vnd.jupyter.widget-view+json": {
              "version_major": 2,
              "version_minor": 0,
              "model_id": "fb90bcf8b6dd4efabf6cf833d513ffea"
            }
          },
          "metadata": {}
        },
        {
          "output_type": "display_data",
          "data": {
            "text/plain": [
              "tokenizer_config.json:   0%|          | 0.00/604 [00:00<?, ?B/s]"
            ],
            "application/vnd.jupyter.widget-view+json": {
              "version_major": 2,
              "version_minor": 0,
              "model_id": "f7de8548d713446ba084e9cd79c35371"
            }
          },
          "metadata": {}
        },
        {
          "output_type": "display_data",
          "data": {
            "text/plain": [
              "special_tokens_map.json:   0%|          | 0.00/389 [00:00<?, ?B/s]"
            ],
            "application/vnd.jupyter.widget-view+json": {
              "version_major": 2,
              "version_minor": 0,
              "model_id": "383beeea462a4ab1b926cb09ad0edcb8"
            }
          },
          "metadata": {}
        },
        {
          "output_type": "display_data",
          "data": {
            "text/plain": [
              "vocab.json:   0%|          | 0.00/961k [00:00<?, ?B/s]"
            ],
            "application/vnd.jupyter.widget-view+json": {
              "version_major": 2,
              "version_minor": 0,
              "model_id": "34ffba9378c34d66a3987d9364838856"
            }
          },
          "metadata": {}
        },
        {
          "output_type": "stream",
          "name": "stderr",
          "text": [
            "Using a slow image processor as `use_fast` is unset and a slow processor was saved with this model. `use_fast=True` will be the default behavior in v4.52, even if the model was saved with a slow processor. This will result in minor differences in outputs. You'll still be able to use a slow processor with `use_fast=False`.\n"
          ]
        }
      ]
    },
    {
      "cell_type": "code",
      "source": [
        "images=dataset['image']"
      ],
      "metadata": {
        "id": "b1baykjcMAFB"
      },
      "execution_count": null,
      "outputs": []
    },
    {
      "cell_type": "code",
      "source": [
        "caption=dataset['productDisplayName']"
      ],
      "metadata": {
        "id": "HDpa0ExVMOuw"
      },
      "execution_count": null,
      "outputs": []
    },
    {
      "cell_type": "code",
      "source": [
        "embedding=[]\n",
        "batch_size=32\n",
        "image_embeddings = model.encode(images, convert_to_tensor=True, batch_size=batch_size, device=device)\n",
        "caption_embeddings = model.encode(caption, convert_to_tensor=True, batch_size=batch_size, device=device)\n",
        "\n",
        "# Compute final embedding\n",
        "final_embeddings = 0.6 * caption_embeddings + 0.4 * image_embeddings\n"
      ],
      "metadata": {
        "id": "NpeKdmSJSMjF"
      },
      "execution_count": null,
      "outputs": []
    },
    {
      "cell_type": "code",
      "source": [
        "final_embeddings.shape"
      ],
      "metadata": {
        "colab": {
          "base_uri": "https://localhost:8080/"
        },
        "id": "zb82dZxUeXpC",
        "outputId": "ef2fce44-4c83-4afb-d4dd-c8d7daae67ed"
      },
      "execution_count": null,
      "outputs": [
        {
          "output_type": "execute_result",
          "data": {
            "text/plain": [
              "torch.Size([44072, 512])"
            ]
          },
          "metadata": {},
          "execution_count": 10
        }
      ]
    },
    {
      "cell_type": "code",
      "source": [
        "import numpy as np\n",
        "\n",
        "np.save(\"/content/drive/MyDrive/Data/search_engine/embeddings.npy\", final_embeddings.cpu().numpy())  # Move to CPU before saving\n"
      ],
      "metadata": {
        "id": "lBr_PNT9ew_s"
      },
      "execution_count": null,
      "outputs": []
    }
  ]
}