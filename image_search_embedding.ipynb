{
  "nbformat": 4,
  "nbformat_minor": 0,
  "metadata": {
    "colab": {
      "provenance": [],
      "authorship_tag": "ABX9TyMmrdL0W2kkqcPGXf3/1MfF",
      "include_colab_link": true
    },
    "kernelspec": {
      "name": "python3",
      "display_name": "Python 3"
    },
    "language_info": {
      "name": "python"
    }
  },
  "cells": [
    {
      "cell_type": "markdown",
      "metadata": {
        "id": "view-in-github",
        "colab_type": "text"
      },
      "source": [
        "<a href=\"https://colab.research.google.com/github/amgothhrithik/Search_Engine/blob/main/image_search_embedding.ipynb\" target=\"_parent\"><img src=\"https://colab.research.google.com/assets/colab-badge.svg\" alt=\"Open In Colab\"/></a>"
      ]
    },
    {
      "cell_type": "code",
      "execution_count": null,
      "metadata": {
        "id": "ExW-osAe63ST",
        "colab": {
          "base_uri": "https://localhost:8080/"
        },
        "outputId": "1bfa7a3b-89b4-4212-bd4b-a3a1b79268f2"
      },
      "outputs": [
        {
          "output_type": "stream",
          "name": "stdout",
          "text": [
            "Mounted at /content/drive\n"
          ]
        }
      ],
      "source": [
        "from google.colab import drive\n",
        "drive.mount('/content/drive')"
      ]
    },
    {
      "cell_type": "code",
      "source": [
        "!pip install datasets"
      ],
      "metadata": {
        "id": "r5FP3FRQ63nx",
        "collapsed": true
      },
      "execution_count": null,
      "outputs": []
    },
    {
      "cell_type": "code",
      "source": [
        "from datasets import load_dataset\n",
        "\n",
        "dataset =  load_dataset(\n",
        "    \"ashraq/fashion-product-images-small\",\n",
        "    split=\"train\" )\n"
      ],
      "metadata": {
        "colab": {
          "base_uri": "https://localhost:8080/",
          "height": 254,
          "referenced_widgets": [
            "df6e9376d16548689b87c161a19f7f12",
            "57f04392b2a944c3b05dac9dd915931d",
            "52e0e40eb540409daec3f0298b1471fe",
            "df139f65ba734103a0d5fd2176675c36",
            "7cf01fbbeb4b4cd2ac8d5e66e13528f3",
            "54af1d599f194e78a33a7a5333bd5257",
            "3390311c05e0499ba79baf74e1ce43b7",
            "1388bfde9e6d45a08fd6c1058de747b2",
            "fbe40c368b7e424ca2c5fe8ce7987762",
            "390842eb772e4b8b96e3f03429a1e118",
            "936f4a1982e84f52bce6fe66fb770795",
            "71c2bc2a13544219b0f5753ac1a8b0d0",
            "9edc96d51b9542c88e4c7407b1649f5a",
            "4405b998c844422caf217ad428856c6a",
            "2b7b4d581f4046f4bb7aef7924f63a97",
            "a07724790b2a42458c2088daead21fd0",
            "dd9252bc319d41779c0e37dee2372010",
            "88d8d5c72db54a3889b6f72a2076044d",
            "486cb8dc485f4cbd90d3a2a4056a208d",
            "c147b402afa147988e44e1d39e17e803",
            "e51c8d1bf2014f9e93fe7bf370342698",
            "45067aa9bc8f4205adc7f503168e5a29",
            "0ea8c1d25e3e4885b6bbe667dcacb10d",
            "4912f2c54df542f297bda5cb2b6dcb47",
            "c555b646431e43bea78ae10da4feaeaf",
            "902083c8909f4dae889d4ce18fd32a68",
            "bba372dc8aed496f931fe31cc46b7534",
            "25938914085f4e01811570cb9a5989a9",
            "06c83bc0c99c4877828078f92eb4cf39",
            "b3bfadec6eed47e182483687cf30491e",
            "be745727c7294fe89ab9f5b898c78c94",
            "8f373d848e7d4f18aba790071fb3c56a",
            "0676449c8c4f4cf7ac382f377a4a9280",
            "c69214071c8c427f9d62775bb885b07a",
            "f36e05b4e642421693e888b451830c6f",
            "3f8f24345f43439cb525cf8b7db71083",
            "e3f23a5bf53f4ede8a54298c532e3b00",
            "c9c2f328dc2e45b6bec86a523f8c148b",
            "a8384db05e7e4365b28de3aad6e53cfb",
            "872ba5d288d3475ebc8b02d328756fe7",
            "2ac26e1c136c48a9a33dbec68359b4b1",
            "49d51c5c01dd457583dabb89e4653f63",
            "bbc148bda67644538646cdfea63b7f95",
            "9cf4d526bbb14aa3b08122f003f4720f"
          ]
        },
        "id": "zoLQV_TcIMR3",
        "outputId": "0f35e812-7960-49b3-ac66-ffe32f98988f",
        "collapsed": true
      },
      "execution_count": null,
      "outputs": [
        {
          "output_type": "stream",
          "name": "stderr",
          "text": [
            "/usr/local/lib/python3.11/dist-packages/huggingface_hub/utils/_auth.py:94: UserWarning: \n",
            "The secret `HF_TOKEN` does not exist in your Colab secrets.\n",
            "To authenticate with the Hugging Face Hub, create a token in your settings tab (https://huggingface.co/settings/tokens), set it as secret in your Google Colab and restart your session.\n",
            "You will be able to reuse this secret in all of your notebooks.\n",
            "Please note that authentication is recommended but still optional to access public models or datasets.\n",
            "  warnings.warn(\n"
          ]
        },
        {
          "output_type": "display_data",
          "data": {
            "text/plain": [
              "README.md:   0%|          | 0.00/867 [00:00<?, ?B/s]"
            ],
            "application/vnd.jupyter.widget-view+json": {
              "version_major": 2,
              "version_minor": 0,
              "model_id": "df6e9376d16548689b87c161a19f7f12"
            }
          },
          "metadata": {}
        },
        {
          "output_type": "display_data",
          "data": {
            "text/plain": [
              "(…)-00000-of-00002-6cff4c59f91661c3.parquet:   0%|          | 0.00/136M [00:00<?, ?B/s]"
            ],
            "application/vnd.jupyter.widget-view+json": {
              "version_major": 2,
              "version_minor": 0,
              "model_id": "71c2bc2a13544219b0f5753ac1a8b0d0"
            }
          },
          "metadata": {}
        },
        {
          "output_type": "display_data",
          "data": {
            "text/plain": [
              "(…)-00001-of-00002-bb459e5ac5f01e71.parquet:   0%|          | 0.00/135M [00:00<?, ?B/s]"
            ],
            "application/vnd.jupyter.widget-view+json": {
              "version_major": 2,
              "version_minor": 0,
              "model_id": "0ea8c1d25e3e4885b6bbe667dcacb10d"
            }
          },
          "metadata": {}
        },
        {
          "output_type": "display_data",
          "data": {
            "text/plain": [
              "Generating train split:   0%|          | 0/44072 [00:00<?, ? examples/s]"
            ],
            "application/vnd.jupyter.widget-view+json": {
              "version_major": 2,
              "version_minor": 0,
              "model_id": "c69214071c8c427f9d62775bb885b07a"
            }
          },
          "metadata": {}
        }
      ]
    },
    {
      "cell_type": "code",
      "source": [
        "print(dataset.features)"
      ],
      "metadata": {
        "id": "3mV2hGVdIbFE",
        "outputId": "b758c99b-5cc9-4a5a-e02c-de54cf82140d",
        "colab": {
          "base_uri": "https://localhost:8080/"
        }
      },
      "execution_count": null,
      "outputs": [
        {
          "output_type": "stream",
          "name": "stdout",
          "text": [
            "{'id': Value(dtype='int64', id=None), 'gender': Value(dtype='string', id=None), 'masterCategory': Value(dtype='string', id=None), 'subCategory': Value(dtype='string', id=None), 'articleType': Value(dtype='string', id=None), 'baseColour': Value(dtype='string', id=None), 'season': Value(dtype='string', id=None), 'year': Value(dtype='float64', id=None), 'usage': Value(dtype='string', id=None), 'productDisplayName': Value(dtype='string', id=None), 'image': Image(mode=None, decode=True, id=None)}\n"
          ]
        }
      ]
    },
    {
      "cell_type": "code",
      "source": [
        "print(dataset[100])"
      ],
      "metadata": {
        "colab": {
          "base_uri": "https://localhost:8080/"
        },
        "id": "u_jlAR1DOg6R",
        "outputId": "26cbf444-a870-4f11-8928-023a30d778dd"
      },
      "execution_count": null,
      "outputs": [
        {
          "output_type": "stream",
          "name": "stdout",
          "text": [
            "{'id': 19311, 'gender': 'Men', 'masterCategory': 'Footwear', 'subCategory': 'Shoes', 'articleType': 'Casual Shoes', 'baseColour': 'White', 'season': 'Fall', 'year': 2011.0, 'usage': 'Casual', 'productDisplayName': 'Nike Men Air Rift MTR White Casual Shoe', 'image': <PIL.Image.Image image mode=RGB size=60x80 at 0x7CFFFB3126D0>}\n"
          ]
        }
      ]
    },
    {
      "cell_type": "code",
      "source": [
        "from transformers import CLIPProcessor, CLIPModel\n",
        "import torch\n",
        "\n",
        "device = \"cuda\" if torch.cuda.is_available() else \"cpu\"\n",
        "model = CLIPModel.from_pretrained(\"openai/clip-vit-base-patch32\").to(device)\n",
        "processor = CLIPProcessor.from_pretrained(\"openai/clip-vit-base-patch32\")\n"
      ],
      "metadata": {
        "id": "OtXfWDyQ3Eyj"
      },
      "execution_count": null,
      "outputs": []
    },
    {
      "cell_type": "code",
      "source": [
        "images=dataset['image']"
      ],
      "metadata": {
        "id": "b1baykjcMAFB"
      },
      "execution_count": null,
      "outputs": []
    },
    {
      "cell_type": "code",
      "source": [
        "caption=dataset['productDisplayName']"
      ],
      "metadata": {
        "id": "HDpa0ExVMOuw"
      },
      "execution_count": null,
      "outputs": []
    },
    {
      "cell_type": "code",
      "source": [
        "from PIL import Image\n",
        "from tqdm import tqdm\n",
        "image_embeddings, text_embeddings = [], []\n",
        "batch_size = 32\n",
        "\n",
        "for i in tqdm(range(0, len(dataset), batch_size)):\n",
        "    images_batch = images[i:i+batch_size]\n",
        "    texts_batch = caption[i:i+batch_size]\n",
        "\n",
        "    # Prepare inputs separately for image and text\n",
        "    image_inputs = processor(images=images_batch, return_tensors=\"pt\").to(device)\n",
        "    text_inputs = processor(text=texts_batch, return_tensors=\"pt\", padding=True).to(device)\n",
        "\n",
        "    with torch.no_grad():\n",
        "        img_embeds = model.get_image_features(**image_inputs)\n",
        "        txt_embeds = model.get_text_features(**text_inputs)\n",
        "\n",
        "    image_embeddings.append(img_embeds.cpu())\n",
        "    text_embeddings.append(txt_embeds.cpu())\n",
        "\n",
        "# Combine and average\n",
        "image_embeddings = torch.cat(image_embeddings, dim=0)\n",
        "text_embeddings = torch.cat(text_embeddings, dim=0)\n",
        "\n",
        "final_embeddings = 0.5 * image_embeddings + 0.5 * text_embeddings\n",
        "final_embeddings_np = final_embeddings.numpy().astype(\"float32\")"
      ],
      "metadata": {
        "colab": {
          "base_uri": "https://localhost:8080/"
        },
        "id": "Cy9eSTjp4BMU",
        "outputId": "c5bef9f4-fe12-45b1-b093-522af7b3a3e5"
      },
      "execution_count": null,
      "outputs": [
        {
          "output_type": "stream",
          "name": "stderr",
          "text": [
            "100%|██████████| 1378/1378 [04:48<00:00,  4.78it/s]\n"
          ]
        }
      ]
    },
    {
      "cell_type": "code",
      "source": [
        "final_embeddings.shape"
      ],
      "metadata": {
        "colab": {
          "base_uri": "https://localhost:8080/"
        },
        "id": "zb82dZxUeXpC",
        "outputId": "b0134c72-4187-4f17-e8cd-e2775a7c14ee"
      },
      "execution_count": null,
      "outputs": [
        {
          "output_type": "execute_result",
          "data": {
            "text/plain": [
              "torch.Size([44072, 512])"
            ]
          },
          "metadata": {},
          "execution_count": 12
        }
      ]
    },
    {
      "cell_type": "code",
      "source": [
        "import numpy as np\n",
        "\n",
        "np.save(\"/content/drive/MyDrive/Data/search_engine/embeddings.npy\", final_embeddings.cpu().numpy())  # Move to CPU before saving\n"
      ],
      "metadata": {
        "id": "lBr_PNT9ew_s"
      },
      "execution_count": null,
      "outputs": []
    }
  ]
}