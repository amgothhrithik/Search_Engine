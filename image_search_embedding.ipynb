{
  "nbformat": 4,
  "nbformat_minor": 0,
  "metadata": {
    "colab": {
      "provenance": [],
      "authorship_tag": "ABX9TyMvu+W+VePQeSY3s/GPHI2t",
      "include_colab_link": true
    },
    "kernelspec": {
      "name": "python3",
      "display_name": "Python 3"
    },
    "language_info": {
      "name": "python"
    }
  },
  "cells": [
    {
      "cell_type": "markdown",
      "metadata": {
        "id": "view-in-github",
        "colab_type": "text"
      },
      "source": [
        "<a href=\"https://colab.research.google.com/github/amgothhrithik/Search_Engine/blob/main/image_search_embedding.ipynb\" target=\"_parent\"><img src=\"https://colab.research.google.com/assets/colab-badge.svg\" alt=\"Open In Colab\"/></a>"
      ]
    },
    {
      "cell_type": "code",
      "execution_count": null,
      "metadata": {
        "id": "ExW-osAe63ST",
        "colab": {
          "base_uri": "https://localhost:8080/"
        },
        "outputId": "1bfa7a3b-89b4-4212-bd4b-a3a1b79268f2"
      },
      "outputs": [
        {
          "output_type": "stream",
          "name": "stdout",
          "text": [
            "Mounted at /content/drive\n"
          ]
        }
      ],
      "source": [
        "from google.colab import drive\n",
        "drive.mount('/content/drive')"
      ]
    },
    {
      "cell_type": "code",
      "source": [
        "!pip install datasets"
      ],
      "metadata": {
        "id": "r5FP3FRQ63nx",
        "collapsed": true
      },
      "execution_count": null,
      "outputs": []
    },
    {
      "cell_type": "code",
      "source": [
        "from datasets import load_dataset\n",
        "\n",
        "dataset =  load_dataset(\n",
        "    \"ashraq/fashion-product-images-small\",\n",
        "    split=\"train\" )\n"
      ],
      "metadata": {
        "colab": {
          "base_uri": "https://localhost:8080/",
          "height": 254,
          "referenced_widgets": [
            "df6e9376d16548689b87c161a19f7f12",
            "57f04392b2a944c3b05dac9dd915931d",
            "52e0e40eb540409daec3f0298b1471fe",
            "df139f65ba734103a0d5fd2176675c36",
            "7cf01fbbeb4b4cd2ac8d5e66e13528f3",
            "54af1d599f194e78a33a7a5333bd5257",
            "3390311c05e0499ba79baf74e1ce43b7",
            "1388bfde9e6d45a08fd6c1058de747b2",
            "fbe40c368b7e424ca2c5fe8ce7987762",
            "390842eb772e4b8b96e3f03429a1e118",
            "936f4a1982e84f52bce6fe66fb770795",
            "71c2bc2a13544219b0f5753ac1a8b0d0",
            "9edc96d51b9542c88e4c7407b1649f5a",
            "4405b998c844422caf217ad428856c6a",
            "2b7b4d581f4046f4bb7aef7924f63a97",
            "a07724790b2a42458c2088daead21fd0",
            "dd9252bc319d41779c0e37dee2372010",
            "88d8d5c72db54a3889b6f72a2076044d",
            "486cb8dc485f4cbd90d3a2a4056a208d",
            "c147b402afa147988e44e1d39e17e803",
            "e51c8d1bf2014f9e93fe7bf370342698",
            "45067aa9bc8f4205adc7f503168e5a29",
            "0ea8c1d25e3e4885b6bbe667dcacb10d",
            "4912f2c54df542f297bda5cb2b6dcb47",
            "c555b646431e43bea78ae10da4feaeaf",
            "902083c8909f4dae889d4ce18fd32a68",
            "bba372dc8aed496f931fe31cc46b7534",
            "25938914085f4e01811570cb9a5989a9",
            "06c83bc0c99c4877828078f92eb4cf39",
            "b3bfadec6eed47e182483687cf30491e",
            "be745727c7294fe89ab9f5b898c78c94",
            "8f373d848e7d4f18aba790071fb3c56a",
            "0676449c8c4f4cf7ac382f377a4a9280",
            "c69214071c8c427f9d62775bb885b07a",
            "f36e05b4e642421693e888b451830c6f",
            "3f8f24345f43439cb525cf8b7db71083",
            "e3f23a5bf53f4ede8a54298c532e3b00",
            "c9c2f328dc2e45b6bec86a523f8c148b",
            "a8384db05e7e4365b28de3aad6e53cfb",
            "872ba5d288d3475ebc8b02d328756fe7",
            "2ac26e1c136c48a9a33dbec68359b4b1",
            "49d51c5c01dd457583dabb89e4653f63",
            "bbc148bda67644538646cdfea63b7f95",
            "9cf4d526bbb14aa3b08122f003f4720f"
          ]
        },
        "id": "zoLQV_TcIMR3",
        "outputId": "0f35e812-7960-49b3-ac66-ffe32f98988f",
        "collapsed": true
      },
      "execution_count": null,
      "outputs": [
        {
          "output_type": "stream",
          "name": "stderr",
          "text": [
            "/usr/local/lib/python3.11/dist-packages/huggingface_hub/utils/_auth.py:94: UserWarning: \n",
            "The secret `HF_TOKEN` does not exist in your Colab secrets.\n",
            "To authenticate with the Hugging Face Hub, create a token in your settings tab (https://huggingface.co/settings/tokens), set it as secret in your Google Colab and restart your session.\n",
            "You will be able to reuse this secret in all of your notebooks.\n",
            "Please note that authentication is recommended but still optional to access public models or datasets.\n",
            "  warnings.warn(\n"
          ]
        },
        {
          "output_type": "display_data",
          "data": {
            "text/plain": [
              "README.md:   0%|          | 0.00/867 [00:00<?, ?B/s]"
            ],
            "application/vnd.jupyter.widget-view+json": {
              "version_major": 2,
              "version_minor": 0,
              "model_id": "df6e9376d16548689b87c161a19f7f12"
            }
          },
          "metadata": {}
        },
        {
          "output_type": "display_data",
          "data": {
            "text/plain": [
              "(…)-00000-of-00002-6cff4c59f91661c3.parquet:   0%|          | 0.00/136M [00:00<?, ?B/s]"
            ],
            "application/vnd.jupyter.widget-view+json": {
              "version_major": 2,
              "version_minor": 0,
              "model_id": "71c2bc2a13544219b0f5753ac1a8b0d0"
            }
          },
          "metadata": {}
        },
        {
          "output_type": "display_data",
          "data": {
            "text/plain": [
              "(…)-00001-of-00002-bb459e5ac5f01e71.parquet:   0%|          | 0.00/135M [00:00<?, ?B/s]"
            ],
            "application/vnd.jupyter.widget-view+json": {
              "version_major": 2,
              "version_minor": 0,
              "model_id": "0ea8c1d25e3e4885b6bbe667dcacb10d"
            }
          },
          "metadata": {}
        },
        {
          "output_type": "display_data",
          "data": {
            "text/plain": [
              "Generating train split:   0%|          | 0/44072 [00:00<?, ? examples/s]"
            ],
            "application/vnd.jupyter.widget-view+json": {
              "version_major": 2,
              "version_minor": 0,
              "model_id": "c69214071c8c427f9d62775bb885b07a"
            }
          },
          "metadata": {}
        }
      ]
    },
    {
      "cell_type": "code",
      "source": [
        "print(dataset.features)"
      ],
      "metadata": {
        "id": "3mV2hGVdIbFE",
        "outputId": "b758c99b-5cc9-4a5a-e02c-de54cf82140d",
        "colab": {
          "base_uri": "https://localhost:8080/"
        }
      },
      "execution_count": null,
      "outputs": [
        {
          "output_type": "stream",
          "name": "stdout",
          "text": [
            "{'id': Value(dtype='int64', id=None), 'gender': Value(dtype='string', id=None), 'masterCategory': Value(dtype='string', id=None), 'subCategory': Value(dtype='string', id=None), 'articleType': Value(dtype='string', id=None), 'baseColour': Value(dtype='string', id=None), 'season': Value(dtype='string', id=None), 'year': Value(dtype='float64', id=None), 'usage': Value(dtype='string', id=None), 'productDisplayName': Value(dtype='string', id=None), 'image': Image(mode=None, decode=True, id=None)}\n"
          ]
        }
      ]
    },
    {
      "cell_type": "code",
      "source": [
        "print(dataset[100])"
      ],
      "metadata": {
        "colab": {
          "base_uri": "https://localhost:8080/"
        },
        "id": "u_jlAR1DOg6R",
        "outputId": "26cbf444-a870-4f11-8928-023a30d778dd"
      },
      "execution_count": null,
      "outputs": [
        {
          "output_type": "stream",
          "name": "stdout",
          "text": [
            "{'id': 19311, 'gender': 'Men', 'masterCategory': 'Footwear', 'subCategory': 'Shoes', 'articleType': 'Casual Shoes', 'baseColour': 'White', 'season': 'Fall', 'year': 2011.0, 'usage': 'Casual', 'productDisplayName': 'Nike Men Air Rift MTR White Casual Shoe', 'image': <PIL.Image.Image image mode=RGB size=60x80 at 0x7CFFFB3126D0>}\n"
          ]
        }
      ]
    },
    {
      "cell_type": "code",
      "source": [
        "\n",
        "\n",
        "from sentence_transformers import SentenceTransformer, util\n",
        "from PIL import Image\n",
        "import torch\n",
        "device = \"cuda\" if torch.cuda.is_available() else \"cpu\"\n",
        "#Load CLIP model\n",
        "model = SentenceTransformer('clip-ViT-B-32').to(device)"
      ],
      "metadata": {
        "collapsed": true,
        "id": "Qoo9On5OFTbN",
        "colab": {
          "base_uri": "https://localhost:8080/",
          "height": 375,
          "referenced_widgets": [
            "3209b8dfb308493ca2cdefb29608fa12",
            "5ef4663fa8c34d7aba830b21a7c79ec7",
            "c098eb0b22e74a38a572b3c55581e3ae",
            "888b79498549420696e83ad0f7872ff2",
            "09745f4557f542d38d04771a04efc8fa",
            "3ce13eb32d4145f19183e66ac9021852",
            "6ffaeddaf6e54b718f7a5106ed7ef395",
            "19b150f0dc934751b651a955dbc4d30a",
            "71e9c1a9473f4107b1472ac50960cd8f",
            "ad66970a3b6e4118b47ede4158d7a622",
            "fed253ea8ef942a6906a7cae3c18d888",
            "5a0e932f02544444860a63be2ba1237a",
            "3c5b31dcbb834fe1aa196464b11ac8ba",
            "606e3e669ba5424e984271918dd80ec5",
            "854de9566e6f4fe1ae47a47642dd1fca",
            "ad5e1a0c296e48c8ad0b77dad77d2608",
            "534d33e3389a4ab89e61a7a50fe03e5c",
            "7b722efbff124718b7b633c3fc30afa1",
            "4c61b27098ed43dc97891d4f9c9c7df2",
            "2bc1c136208e438985700b16969d6d47",
            "64b0143201a24cb99c0ddc6be8b1ce87",
            "1c5bb6d563874390adf4960f4494438a",
            "c793bdc2711a4edaa259c4fe6f7224cc",
            "d382720f1c7e4617b9e7249b10b6d468",
            "60c1ff8a20464d3c9c174dda9be05b6c",
            "251afb6eda344262b17496ee547360e0",
            "e8d2a073420f43e8bccd1d72e4deb7ab",
            "0487798868074496adf15803377ab2b0",
            "125c400fc6f8474cbbbe4fbcc00edfb4",
            "1522b6af7a05400889008d8d0854addf",
            "a1d8b772ab754ed88e807dd3df82eb46",
            "67687dc1b7164e71bb6c776aee33c2ab",
            "2cc4712ae9b04f8bb755288b7acd2a8e",
            "490bd6a5d4bb46f8b8d3ce3350fdbf33",
            "ba3fa61c9465447d85b655e5a3c65def",
            "eec4ef9bda454750b705ffaa5a6635ce",
            "13b96744c5c94c02854c30a5ac4cff44",
            "edec18735e2146a180bb5b25252c50d0",
            "16b19d58950348979fa1d16c0d3f6e1a",
            "d34e2e90115a4c3bb06c4fb616382564",
            "a5faeb3119474d0684a20f0173679700",
            "43cd94dc57584e72b5cfb8289e9072dd",
            "ee85052b65724de3ac2282e0bdbf579a",
            "d5c01bc174304d808feb5cc69a5faa6c",
            "e6292190ec33421db2868d862818a585",
            "4299465faa2c4f039145965f7d7287c1",
            "741f1285e25c4b6cac19e524ebd17d22",
            "e0367aae93fe479b80cdd3fbfb4998c0",
            "e127dbe736de4144a4d7b70bb8692233",
            "f3b6b9bad1be4a5d965517284354946f",
            "6de55251b6574e9e8250368ca796beaa",
            "e3cdfdb28f7847a2808b400261904a4b",
            "e70d4fa72ef54bbf87b9f8fa05f36169",
            "3351110e4701456c89f8411028f21ba2",
            "bbff43577501416981703277aec5e74e",
            "104a7313fd564995bd93177defe417d3",
            "acef0b84d8d641f38451356921b9ad9a",
            "400c362859624fefb0d883f1b8ffa935",
            "e5e1604339154a819b6575e3db7b8573",
            "be7d13631c2d4497af0bc7a87034488a",
            "460d3ab123fc4db9bd40f3cf1e388a83",
            "4203e751f9c249329ca87ba2a0db892c",
            "c2d78a1955914e57a6530fff4977d378",
            "bac88f5f8ee54f67b258926fb5cc2050",
            "16c8257aa2164980b4d400528c55bc28",
            "51d631ad14bb4436b5ff372921a9b3e7",
            "fb90bcf8b6dd4efabf6cf833d513ffea",
            "71e33f0317ce440689005f6ee6fa8eef",
            "c4493c32ee74473982b3a907ed6d3a4d",
            "486adb5bb22e49d999a1b8ce013c5d32",
            "cb3b11ff9d8e4e799d7a17cef93c1c86",
            "fdda2a84ccad49b4b72f5c76ba628d2f",
            "a13ec679a9434378a2bcc6c68647d05d",
            "2e5b7733814a45149c889dbcee5443a8",
            "f0c0852471de4aaa876e80c07ead2b69",
            "d828e4597fc54367bacd584b2a252163",
            "ed82f2c904344c67a7ee64a85abfa57a",
            "f7de8548d713446ba084e9cd79c35371",
            "ae8e9871d82f498e8e240db178f270fe",
            "623783c514544159a0059d7356d7a142",
            "39e4bff8089a4830a49aecb19828251c",
            "d41705ece60a4212aada1438ebb07818",
            "8195c190b93a48b19f519f0cc65acdca",
            "afa44bab75184830bcf4790a9694f1bb",
            "1cbd181166bf49738599b958b622a895",
            "10b2dcc6f3b9427c8426ade9b09aa7c9",
            "1935f64806e1422b98f23fcedcbc774c",
            "21ff495596ab4de5b91d4c29fad2ca8a",
            "383beeea462a4ab1b926cb09ad0edcb8",
            "4555826a510c45f880f3996a0500f68d",
            "101cecb6f9f347fb817ad95dbba6fde5",
            "20e0af9f53ac4bf8b51d11514e793dea",
            "bebe5c2a3d63443d870e42b50c08ff5d",
            "5bf8166f9e434433a25f8640db1ed6b7",
            "7c48c5352b964b6aa0fe20f837f64d9b",
            "0395dd46a703420f9d96f796b9ef560d",
            "09346ba3c949498cbe9632d270c54fee",
            "d26e49d912b649e4a6f7976cbe6bec19",
            "a11cf863ee7942f6b883b36acd342790",
            "34ffba9378c34d66a3987d9364838856",
            "5a22a400f853412ca6d79bf50df23b34",
            "5b8dc0141b7648c087b779060ca044c7",
            "e955e27e4e3645e29ed3a121774868ef",
            "57474b265792496c9a47d15e10019277",
            "ea3eea12831e49c18a699123e72e50fd",
            "db13adae15614f63b753054a9fe6e5ed",
            "b7645a7f136a466b9397c50c3d68a930",
            "b2146df2186e499da1d9bb8de13b1f53",
            "6daddf280ad34f75ba7bfa3692897128",
            "17d38e63796c464d84b1cd115d5a8d91"
          ]
        },
        "outputId": "58adc363-480e-4326-bde4-b9f7e0eaa413"
      },
      "execution_count": null,
      "outputs": [
        {
          "output_type": "display_data",
          "data": {
            "text/plain": [
              "modules.json:   0%|          | 0.00/122 [00:00<?, ?B/s]"
            ],
            "application/vnd.jupyter.widget-view+json": {
              "version_major": 2,
              "version_minor": 0,
              "model_id": "3209b8dfb308493ca2cdefb29608fa12"
            }
          },
          "metadata": {}
        },
        {
          "output_type": "display_data",
          "data": {
            "text/plain": [
              "config_sentence_transformers.json:   0%|          | 0.00/116 [00:00<?, ?B/s]"
            ],
            "application/vnd.jupyter.widget-view+json": {
              "version_major": 2,
              "version_minor": 0,
              "model_id": "5a0e932f02544444860a63be2ba1237a"
            }
          },
          "metadata": {}
        },
        {
          "output_type": "display_data",
          "data": {
            "text/plain": [
              "README.md:   0%|          | 0.00/1.91k [00:00<?, ?B/s]"
            ],
            "application/vnd.jupyter.widget-view+json": {
              "version_major": 2,
              "version_minor": 0,
              "model_id": "c793bdc2711a4edaa259c4fe6f7224cc"
            }
          },
          "metadata": {}
        },
        {
          "output_type": "display_data",
          "data": {
            "text/plain": [
              "merges.txt:   0%|          | 0.00/525k [00:00<?, ?B/s]"
            ],
            "application/vnd.jupyter.widget-view+json": {
              "version_major": 2,
              "version_minor": 0,
              "model_id": "490bd6a5d4bb46f8b8d3ce3350fdbf33"
            }
          },
          "metadata": {}
        },
        {
          "output_type": "display_data",
          "data": {
            "text/plain": [
              "preprocessor_config.json:   0%|          | 0.00/316 [00:00<?, ?B/s]"
            ],
            "application/vnd.jupyter.widget-view+json": {
              "version_major": 2,
              "version_minor": 0,
              "model_id": "e6292190ec33421db2868d862818a585"
            }
          },
          "metadata": {}
        },
        {
          "output_type": "display_data",
          "data": {
            "text/plain": [
              "pytorch_model.bin:   0%|          | 0.00/605M [00:00<?, ?B/s]"
            ],
            "application/vnd.jupyter.widget-view+json": {
              "version_major": 2,
              "version_minor": 0,
              "model_id": "104a7313fd564995bd93177defe417d3"
            }
          },
          "metadata": {}
        },
        {
          "output_type": "display_data",
          "data": {
            "text/plain": [
              "config.json:   0%|          | 0.00/4.03k [00:00<?, ?B/s]"
            ],
            "application/vnd.jupyter.widget-view+json": {
              "version_major": 2,
              "version_minor": 0,
              "model_id": "fb90bcf8b6dd4efabf6cf833d513ffea"
            }
          },
          "metadata": {}
        },
        {
          "output_type": "display_data",
          "data": {
            "text/plain": [
              "tokenizer_config.json:   0%|          | 0.00/604 [00:00<?, ?B/s]"
            ],
            "application/vnd.jupyter.widget-view+json": {
              "version_major": 2,
              "version_minor": 0,
              "model_id": "f7de8548d713446ba084e9cd79c35371"
            }
          },
          "metadata": {}
        },
        {
          "output_type": "display_data",
          "data": {
            "text/plain": [
              "special_tokens_map.json:   0%|          | 0.00/389 [00:00<?, ?B/s]"
            ],
            "application/vnd.jupyter.widget-view+json": {
              "version_major": 2,
              "version_minor": 0,
              "model_id": "383beeea462a4ab1b926cb09ad0edcb8"
            }
          },
          "metadata": {}
        },
        {
          "output_type": "display_data",
          "data": {
            "text/plain": [
              "vocab.json:   0%|          | 0.00/961k [00:00<?, ?B/s]"
            ],
            "application/vnd.jupyter.widget-view+json": {
              "version_major": 2,
              "version_minor": 0,
              "model_id": "34ffba9378c34d66a3987d9364838856"
            }
          },
          "metadata": {}
        },
        {
          "output_type": "stream",
          "name": "stderr",
          "text": [
            "Using a slow image processor as `use_fast` is unset and a slow processor was saved with this model. `use_fast=True` will be the default behavior in v4.52, even if the model was saved with a slow processor. This will result in minor differences in outputs. You'll still be able to use a slow processor with `use_fast=False`.\n"
          ]
        }
      ]
    },
    {
      "cell_type": "code",
      "source": [
        "from transformers import CLIPProcessor, CLIPModel\n",
        "import torch\n",
        "\n",
        "device = \"cuda\" if torch.cuda.is_available() else \"cpu\"\n",
        "model = CLIPModel.from_pretrained(\"openai/clip-vit-base-patch32\").to(device)\n",
        "processor = CLIPProcessor.from_pretrained(\"openai/clip-vit-base-patch32\")\n"
      ],
      "metadata": {
        "id": "OtXfWDyQ3Eyj"
      },
      "execution_count": null,
      "outputs": []
    },
    {
      "cell_type": "code",
      "source": [
        "images=dataset['image']"
      ],
      "metadata": {
        "id": "b1baykjcMAFB"
      },
      "execution_count": null,
      "outputs": []
    },
    {
      "cell_type": "code",
      "source": [
        "caption=dataset['productDisplayName']"
      ],
      "metadata": {
        "id": "HDpa0ExVMOuw"
      },
      "execution_count": null,
      "outputs": []
    },
    {
      "cell_type": "code",
      "source": [
        "from PIL import Image\n",
        "from tqdm import tqdm\n",
        "image_embeddings, text_embeddings = [], []\n",
        "batch_size = 32\n",
        "\n",
        "for i in tqdm(range(0, len(dataset), batch_size)):\n",
        "    images_batch = images[i:i+batch_size]\n",
        "    texts_batch = caption[i:i+batch_size]\n",
        "\n",
        "    # Prepare inputs separately for image and text\n",
        "    image_inputs = processor(images=images_batch, return_tensors=\"pt\").to(device)\n",
        "    text_inputs = processor(text=texts_batch, return_tensors=\"pt\", padding=True).to(device)\n",
        "\n",
        "    with torch.no_grad():\n",
        "        img_embeds = model.get_image_features(**image_inputs)\n",
        "        txt_embeds = model.get_text_features(**text_inputs)\n",
        "\n",
        "    image_embeddings.append(img_embeds.cpu())\n",
        "    text_embeddings.append(txt_embeds.cpu())\n",
        "\n",
        "# Combine and average\n",
        "image_embeddings = torch.cat(image_embeddings, dim=0)\n",
        "text_embeddings = torch.cat(text_embeddings, dim=0)\n",
        "\n",
        "final_embeddings = 0.5 * image_embeddings + 0.5 * text_embeddings\n",
        "final_embeddings_np = final_embeddings.numpy().astype(\"float32\")"
      ],
      "metadata": {
        "colab": {
          "base_uri": "https://localhost:8080/"
        },
        "id": "Cy9eSTjp4BMU",
        "outputId": "c5bef9f4-fe12-45b1-b093-522af7b3a3e5"
      },
      "execution_count": null,
      "outputs": [
        {
          "output_type": "stream",
          "name": "stderr",
          "text": [
            "100%|██████████| 1378/1378 [04:48<00:00,  4.78it/s]\n"
          ]
        }
      ]
    },
    {
      "cell_type": "code",
      "source": [
        "final_embeddings.shape"
      ],
      "metadata": {
        "colab": {
          "base_uri": "https://localhost:8080/"
        },
        "id": "zb82dZxUeXpC",
        "outputId": "b0134c72-4187-4f17-e8cd-e2775a7c14ee"
      },
      "execution_count": null,
      "outputs": [
        {
          "output_type": "execute_result",
          "data": {
            "text/plain": [
              "torch.Size([44072, 512])"
            ]
          },
          "metadata": {},
          "execution_count": 12
        }
      ]
    },
    {
      "cell_type": "code",
      "source": [
        "import numpy as np\n",
        "\n",
        "np.save(\"/content/drive/MyDrive/Data/search_engine/embeddings.npy\", final_embeddings.cpu().numpy())  # Move to CPU before saving\n"
      ],
      "metadata": {
        "id": "lBr_PNT9ew_s"
      },
      "execution_count": null,
      "outputs": []
    }
  ]
}